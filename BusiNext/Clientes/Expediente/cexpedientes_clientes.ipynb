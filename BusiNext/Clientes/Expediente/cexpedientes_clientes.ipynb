{
 "cells": [
  {
   "cell_type": "markdown",
   "metadata": {},
   "source": [
    "### Importacion de librerias"
   ]
  },
  {
   "cell_type": "code",
   "execution_count": 478,
   "metadata": {},
   "outputs": [],
   "source": [
    "### Importacion de archivos\n",
    "import pandas as pd\n",
    "import numpy as np"
   ]
  },
  {
   "cell_type": "markdown",
   "metadata": {},
   "source": [
    "### Carga de archivos"
   ]
  },
  {
   "cell_type": "code",
   "execution_count": 479,
   "metadata": {},
   "outputs": [],
   "source": [
    "clientes = pd.read_csv('current_reports/clientes.csv')\n",
    "df_clientes = pd.DataFrame(clientes)"
   ]
  },
  {
   "cell_type": "markdown",
   "metadata": {},
   "source": [
    "### Manipulación de reporte de clientes"
   ]
  },
  {
   "cell_type": "code",
   "execution_count": 480,
   "metadata": {},
   "outputs": [],
   "source": [
    "df_clientes = df_clientes.drop(df_clientes[df_clientes[\"Sucursal\"] == \"Sucursal Coyoacan\"].index)\n",
    "df_clientes = df_clientes[['index', 'pos_client', 'reg_dtt', 'client_type','name', 'Nombre', 'Apellido', 'email', 'is_active', 'phone', 'region', 'Sucursal',\n",
    "                          'steel_discount', 'lamin_discount','buy_back_enabled','csg_enabled']]\n",
    "df_clientes.rename(columns={'index': \"BN-Cliente\",'Apellido': 'Apellidos', 'pos_client': \"POS-Cliente\", 'reg_dtt': 'F/h registro',\n",
    "                            'client_type': 'Tipo', 'email': 'Correo', 'is_active': 'Web', 'region': 'Region',\n",
    "                            'lamin_discount': 'Desc Laminado', 'steel_discount': 'Desc Acero', 'buy_back_enabled': 'Re-compra',\n",
    "                            'csg_enabled': 'Consigna', 'phone': 'Teléfono'}, inplace=True)\n",
    "\n",
    "\n",
    "# Rellenando datos faltantes\n",
    "df_clientes['Nombre'] = df_clientes['Nombre'].fillna('<NULL>')\n",
    "df_clientes['Apellidos'] = df_clientes['Apellidos'].fillna('<NULL>')\n",
    "df_clientes['name'] = df_clientes['name'].fillna('<NULL>')\n",
    "df_clientes['POS-Cliente'] = df_clientes['POS-Cliente'].fillna('<NULL>')\n",
    "df_clientes['Correo'] = df_clientes['Correo'].fillna('<NULL>')\n",
    "df_clientes['Nombre'] = df_clientes['Nombre'].map(lambda x: \"\" if ( x == \"<NULL>\" ) else x)\n",
    "df_clientes['Apellidos'] = df_clientes['Apellidos'].map(lambda x: \"\" if ( x == \"<NULL>\" ) else x)\n",
    "df_clientes['name'] = df_clientes['name'].map(lambda x: \"\" if ( x == \"<NULL>\" ) else x)\n",
    "df_clientes['Nombre Completo'] = df_clientes['Nombre'] + \" \" + df_clientes['Apellidos']\n",
    "df_clientes['Nombre Completo'] = np.where(df_clientes['Nombre Completo'] == ' ', df_clientes['name'], df_clientes['Nombre Completo']) \n",
    "df_clientes['Nombre Completo'] = np.where(df_clientes['Nombre Completo'] == '', None, df_clientes['Nombre Completo']) \n",
    "\n",
    "# Definiendo tipos de dato\n",
    "df_clientes['POS-Cliente'] = df_clientes['POS-Cliente'].astype('string')\n",
    "df_clientes['Tipo'] = df_clientes['Tipo'].astype('string')\n",
    "df_clientes['Nombre'] = df_clientes['Nombre'].astype('string')\n",
    "df_clientes['Apellidos'] = df_clientes['Apellidos'].astype('string')\n",
    "df_clientes['Correo'] = df_clientes['Correo'].astype('string')\n",
    "df_clientes['Web'] = df_clientes['Web'].astype('bool')\n",
    "df_clientes['Teléfono'] = df_clientes['Teléfono'].astype('string')\n",
    "df_clientes['Region'] = df_clientes['Region'].astype('string')\n",
    "df_clientes['Sucursal'] = df_clientes['Sucursal'].astype('string')\n",
    "df_clientes['Re-compra'] = df_clientes['Re-compra'].astype('bool')\n",
    "df_clientes['Consigna'] = df_clientes['Consigna'].astype('bool')\n"
   ]
  },
  {
   "cell_type": "markdown",
   "metadata": {},
   "source": [
    "### Unificación de nombres de cliente"
   ]
  },
  {
   "cell_type": "code",
   "execution_count": 481,
   "metadata": {},
   "outputs": [],
   "source": [
    "# Formateando nombres\n",
    "df_clientes['Apellidos'] = df_clientes['Apellidos'].str.upper()\n",
    "df_clientes['Nombre'] = df_clientes['Nombre'].str.upper()\n",
    "df_clientes['Nombre Completo'] = df_clientes['Nombre Completo'].str.upper()\n",
    "df_clientes['name'] = df_clientes['name'].str.upper()\n",
    "\n",
    "# Archivo para unificacion de nombres de clientes\n",
    "with pd.ExcelWriter('new_reports/unificacionNombres.xlsx') as writer:\n",
    "    df_clientes[[\"BN-Cliente\", \"Nombre Completo\", \"Nombre\", \"Apellidos\"]].to_excel(writer, index=False)"
   ]
  },
  {
   "cell_type": "markdown",
   "metadata": {},
   "source": [
    "### Desgloce de clientes sin numero telefonico"
   ]
  },
  {
   "cell_type": "code",
   "execution_count": 482,
   "metadata": {},
   "outputs": [
    {
     "data": {
      "text/html": [
       "<div>\n",
       "<style scoped>\n",
       "    .dataframe tbody tr th:only-of-type {\n",
       "        vertical-align: middle;\n",
       "    }\n",
       "\n",
       "    .dataframe tbody tr th {\n",
       "        vertical-align: top;\n",
       "    }\n",
       "\n",
       "    .dataframe thead th {\n",
       "        text-align: right;\n",
       "    }\n",
       "</style>\n",
       "<table border=\"1\" class=\"dataframe\">\n",
       "  <thead>\n",
       "    <tr style=\"text-align: right;\">\n",
       "      <th></th>\n",
       "      <th>Si</th>\n",
       "      <th>No</th>\n",
       "      <th>CDMX</th>\n",
       "      <th>GDL</th>\n",
       "      <th>&lt;NULL&gt;</th>\n",
       "    </tr>\n",
       "  </thead>\n",
       "  <tbody>\n",
       "    <tr>\n",
       "      <th>Nombre Completo</th>\n",
       "      <td>1711.0</td>\n",
       "      <td>0.0</td>\n",
       "      <td>0.0</td>\n",
       "      <td>0.0</td>\n",
       "      <td>0.0</td>\n",
       "    </tr>\n",
       "    <tr>\n",
       "      <th>Correo</th>\n",
       "      <td>79.0</td>\n",
       "      <td>1632.0</td>\n",
       "      <td>0.0</td>\n",
       "      <td>0.0</td>\n",
       "      <td>0.0</td>\n",
       "    </tr>\n",
       "    <tr>\n",
       "      <th>BN-Cliente</th>\n",
       "      <td>69.0</td>\n",
       "      <td>1642.0</td>\n",
       "      <td>0.0</td>\n",
       "      <td>0.0</td>\n",
       "      <td>0.0</td>\n",
       "    </tr>\n",
       "    <tr>\n",
       "      <th>POS-Cliente</th>\n",
       "      <td>1642.0</td>\n",
       "      <td>69.0</td>\n",
       "      <td>0.0</td>\n",
       "      <td>0.0</td>\n",
       "      <td>0.0</td>\n",
       "    </tr>\n",
       "    <tr>\n",
       "      <th>Region</th>\n",
       "      <td>0.0</td>\n",
       "      <td>0.0</td>\n",
       "      <td>1459.0</td>\n",
       "      <td>235.0</td>\n",
       "      <td>17.0</td>\n",
       "    </tr>\n",
       "  </tbody>\n",
       "</table>\n",
       "</div>"
      ],
      "text/plain": [
       "                     Si      No    CDMX    GDL  <NULL>\n",
       "Nombre Completo  1711.0     0.0     0.0    0.0     0.0\n",
       "Correo             79.0  1632.0     0.0    0.0     0.0\n",
       "BN-Cliente         69.0  1642.0     0.0    0.0     0.0\n",
       "POS-Cliente      1642.0    69.0     0.0    0.0     0.0\n",
       "Region              0.0     0.0  1459.0  235.0    17.0"
      ]
     },
     "execution_count": 482,
     "metadata": {},
     "output_type": "execute_result"
    }
   ],
   "source": [
    "df_clientes['Teléfono'] = df_clientes['Teléfono'].fillna('<NULL>')\n",
    "df_clientes['Teléfono'] = df_clientes['Teléfono'].map(lambda x: x if len(x) == 10 else '<NULL>')\n",
    "df_clientes_not_phone = df_clientes[df_clientes['Teléfono'] == \"<NULL>\"]\n",
    "df_clientes_not_phone = df_clientes_not_phone[['BN-Cliente', 'POS-Cliente', 'F/h registro', 'Nombre Completo', 'Correo', \n",
    "                                               'Teléfono', 'Region', 'Sucursal']]\n",
    "df_clientes_not_phone['BN-Cliente'] = np.where(df_clientes_not_phone['POS-Cliente'] == '<NULL>', \"Si\", \"No\")\n",
    "df_clientes_not_phone['POS-Cliente'] = np.where(df_clientes_not_phone['POS-Cliente'] == '<NULL>', \"No\", \"Si\")\n",
    "df_clientes_not_phone['Correo'] = np.where(df_clientes_not_phone['Correo'] == '<NULL>', 'No', 'Si')\n",
    "df_clientes_not_phone['Nombre Completo'] = np.where(df_clientes_not_phone['Nombre Completo'] == '', \"No\", \"Si\")\n",
    "count_correo = df_clientes_not_phone['Correo'].value_counts()\n",
    "count_pos = df_clientes_not_phone['POS-Cliente'].value_counts()\n",
    "count_bn = df_clientes_not_phone['BN-Cliente'].value_counts()\n",
    "count_name = df_clientes_not_phone['Nombre Completo'].value_counts()\n",
    "count_region = df_clientes_not_phone['Region'].value_counts()\n",
    "# count_store = df_clientes_not_phone['Sucursal'].value_counts()\n",
    "df_resumen = pd.DataFrame([count_name, count_correo, count_bn, count_pos, count_region]).fillna(0)\n",
    "\n",
    "# Archivo de clientes sin numero o numero invalido\n",
    "with pd.ExcelWriter('new_reports/telefonos_invalidos.xlsx') as writer:\n",
    "    df_clientes.to_excel(writer, index=False)\n",
    "\n",
    "df_resumen"
   ]
  }
 ],
 "metadata": {
  "interpreter": {
   "hash": "aded09e558314f283b8b86b5203ba19e86f81af5ef76e49880158bc2fedf532b"
  },
  "kernelspec": {
   "display_name": "Python 3.9.7 ('base')",
   "language": "python",
   "name": "python3"
  },
  "language_info": {
   "codemirror_mode": {
    "name": "ipython",
    "version": 3
   },
   "file_extension": ".py",
   "mimetype": "text/x-python",
   "name": "python",
   "nbconvert_exporter": "python",
   "pygments_lexer": "ipython3",
   "version": "3.9.7"
  },
  "orig_nbformat": 4
 },
 "nbformat": 4,
 "nbformat_minor": 2
}
