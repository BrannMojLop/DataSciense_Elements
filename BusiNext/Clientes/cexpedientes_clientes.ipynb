{
 "cells": [
  {
   "cell_type": "markdown",
   "metadata": {},
   "source": [
    "### Importacion de librerias"
   ]
  },
  {
   "cell_type": "code",
   "execution_count": 12,
   "metadata": {},
   "outputs": [],
   "source": [
    "### Importacion de archivos\n",
    "import pandas as pd\n",
    "import numpy as np"
   ]
  },
  {
   "cell_type": "markdown",
   "metadata": {},
   "source": [
    "### Carga de archivos"
   ]
  },
  {
   "cell_type": "code",
   "execution_count": 13,
   "metadata": {},
   "outputs": [],
   "source": [
    "clientes = pd.read_csv('current_reports/clientes.csv')\n",
    "df_clientes = pd.DataFrame(clientes)"
   ]
  },
  {
   "cell_type": "markdown",
   "metadata": {},
   "source": [
    "### Manipulación de reporte de clientes"
   ]
  },
  {
   "cell_type": "code",
   "execution_count": 14,
   "metadata": {},
   "outputs": [],
   "source": [
    "df_clientes = df_clientes.drop(df_clientes[df_clientes[\"Sucursal\"] == \"Sucursal Coyoacan\"].index)\n",
    "df_clientes.rename(columns={'index': \"BN-Cliente\",'Apellido': 'Apellidos', 'pos_client': \"POS-Cliente\", 'reg_dtt': 'F/h registro',\n",
    "                            'client_type': 'Tipo', 'email': 'Correo', 'is_active': 'Web', 'region': 'Region',\n",
    "                            'lamin_discount': 'Desc Laminado', 'steel_discount': 'Desc Acero', 'buy_back_enabled': 'Re-compra',\n",
    "                            'csg_enabled': 'Consigna', 'phone': 'Teléfono', 'csg_days':'Dias de Consigna', 'csg_auth':'Consigna Autorizada',\n",
    "                            'accumulated_purchases': 'Acumulado 6m'}, inplace=True)\n",
    "\n",
    "\n",
    "# Rellenando datos faltantes\n",
    "df_clientes['Nombre'] = df_clientes['Nombre'].fillna('<NULL>')\n",
    "df_clientes['Apellidos'] = df_clientes['Apellidos'].fillna('<NULL>')\n",
    "df_clientes['name'] = df_clientes['name'].fillna('<NULL>')\n",
    "df_clientes['Dias de Consigna'] = df_clientes['Dias de Consigna'].fillna('<NULL>')\n",
    "df_clientes['POS-Cliente'] = df_clientes['POS-Cliente'].fillna('<NULL>')\n",
    "df_clientes['Correo'] = df_clientes['Correo'].fillna('<NULL>')\n",
    "df_clientes['Nombre'] = df_clientes['Nombre'].map(lambda x: \"\" if ( x == \"<NULL>\" ) else x)\n",
    "df_clientes['Apellidos'] = df_clientes['Apellidos'].map(lambda x: \"\" if ( x == \"<NULL>\" ) else x)\n",
    "df_clientes['name'] = df_clientes['name'].map(lambda x: \"\" if ( x == \"<NULL>\" ) else x)\n",
    "df_clientes['Dias de Consigna'] = df_clientes['Dias de Consigna'].map(lambda x: 0 if ( x == \"<NULL>\" ) else x)\n",
    "df_clientes['Acumulado 6m'] = df_clientes['Acumulado 6m'].map(lambda x: 0 if ( x == \"<NULL>\" ) else x)\n",
    "\n",
    "# Definiendo tipos de dato\n",
    "df_clientes['POS-Cliente'] = df_clientes['POS-Cliente'].astype('string')\n",
    "df_clientes['Tipo'] = df_clientes['Tipo'].astype('string')\n",
    "df_clientes['Nombre'] = df_clientes['Nombre'].astype('string')\n",
    "df_clientes['Apellidos'] = df_clientes['Apellidos'].astype('string')\n",
    "df_clientes['Vendedor Asignado'] = df_clientes['Vendedor Asignado'].astype('string')\n",
    "df_clientes['Correo'] = df_clientes['Correo'].astype('string')\n",
    "df_clientes['Web'] = df_clientes['Web'].astype('bool')\n",
    "df_clientes['Dias de Consigna'] = df_clientes['Dias de Consigna'].astype('float64')\n",
    "df_clientes['Acumulado 6m'] = df_clientes['Acumulado 6m'].astype('float64')\n",
    "df_clientes['Teléfono'] = df_clientes['Teléfono'].astype('string')\n",
    "df_clientes['Region'] = df_clientes['Region'].astype('string')\n",
    "df_clientes['Sucursal'] = df_clientes['Sucursal'].astype('string')\n",
    "df_clientes['Re-compra'] = df_clientes['Re-compra'].astype('bool')\n",
    "df_clientes['Consigna'] = df_clientes['Consigna'].astype('bool')\n"
   ]
  },
  {
   "cell_type": "markdown",
   "metadata": {},
   "source": [
    "### Unificación de nombres de cliente"
   ]
  },
  {
   "cell_type": "code",
   "execution_count": 15,
   "metadata": {},
   "outputs": [],
   "source": [
    "# Formateando nombres\n",
    "df_clientes['Nombre'] = np.where(df_clientes['Nombre'] == '', df_clientes['name'], df_clientes['Nombre']) \n",
    "df_clientes['Nombre Completo'] = df_clientes['Nombre'] + \" \" + df_clientes['Apellidos']\n",
    "df_clientes['Nombre Completo'] = np.where(df_clientes['Nombre Completo'] == ' ', df_clientes['name'], df_clientes['Nombre Completo']) \n",
    "df_clientes['Nombre Completo'] = df_clientes['Nombre Completo'].map(lambda x: x if x[:len(x)] == \" \" else x.rstrip())\n",
    "df_clientes['Nombre Completo'] = np.where(df_clientes['Nombre Completo'] == '', None, df_clientes['Nombre Completo']) \n",
    "df_clientes['Apellidos'] = df_clientes['Apellidos'].str.upper()\n",
    "df_clientes['Nombre'] = df_clientes['Nombre'].str.upper()\n",
    "df_clientes['Nombre Completo'] = df_clientes['Nombre Completo'].str.upper()\n",
    "df_clientes['name'] = df_clientes['name'].str.upper()\n",
    "\n",
    "# Archivo para unificacion de nombres de clientes\n",
    "with pd.ExcelWriter('utils/unificacionNombres.xlsx') as writer:\n",
    "    df_clientes[[\"BN-Cliente\", \"Nombre Completo\", \"Nombre\", \"Apellidos\"]].to_excel(writer, index=False)"
   ]
  },
  {
   "cell_type": "markdown",
   "metadata": {},
   "source": [
    "### Desgloce de clientes sin numero telefonico"
   ]
  },
  {
   "cell_type": "code",
   "execution_count": 16,
   "metadata": {},
   "outputs": [
    {
     "data": {
      "text/html": [
       "<div>\n",
       "<style scoped>\n",
       "    .dataframe tbody tr th:only-of-type {\n",
       "        vertical-align: middle;\n",
       "    }\n",
       "\n",
       "    .dataframe tbody tr th {\n",
       "        vertical-align: top;\n",
       "    }\n",
       "\n",
       "    .dataframe thead th {\n",
       "        text-align: right;\n",
       "    }\n",
       "</style>\n",
       "<table border=\"1\" class=\"dataframe\">\n",
       "  <thead>\n",
       "    <tr style=\"text-align: right;\">\n",
       "      <th></th>\n",
       "      <th>Si</th>\n",
       "      <th>No</th>\n",
       "      <th>CDMX</th>\n",
       "      <th>GDL</th>\n",
       "      <th>&lt;NULL&gt;</th>\n",
       "    </tr>\n",
       "  </thead>\n",
       "  <tbody>\n",
       "    <tr>\n",
       "      <th>Nombre Completo</th>\n",
       "      <td>1699.0</td>\n",
       "      <td>0.0</td>\n",
       "      <td>0.0</td>\n",
       "      <td>0.0</td>\n",
       "      <td>0.0</td>\n",
       "    </tr>\n",
       "    <tr>\n",
       "      <th>Correo</th>\n",
       "      <td>83.0</td>\n",
       "      <td>1616.0</td>\n",
       "      <td>0.0</td>\n",
       "      <td>0.0</td>\n",
       "      <td>0.0</td>\n",
       "    </tr>\n",
       "    <tr>\n",
       "      <th>BN-Cliente</th>\n",
       "      <td>82.0</td>\n",
       "      <td>1617.0</td>\n",
       "      <td>0.0</td>\n",
       "      <td>0.0</td>\n",
       "      <td>0.0</td>\n",
       "    </tr>\n",
       "    <tr>\n",
       "      <th>POS-Cliente</th>\n",
       "      <td>1617.0</td>\n",
       "      <td>82.0</td>\n",
       "      <td>0.0</td>\n",
       "      <td>0.0</td>\n",
       "      <td>0.0</td>\n",
       "    </tr>\n",
       "    <tr>\n",
       "      <th>Region</th>\n",
       "      <td>0.0</td>\n",
       "      <td>0.0</td>\n",
       "      <td>1444.0</td>\n",
       "      <td>234.0</td>\n",
       "      <td>21.0</td>\n",
       "    </tr>\n",
       "  </tbody>\n",
       "</table>\n",
       "</div>"
      ],
      "text/plain": [
       "                     Si      No    CDMX    GDL  <NULL>\n",
       "Nombre Completo  1699.0     0.0     0.0    0.0     0.0\n",
       "Correo             83.0  1616.0     0.0    0.0     0.0\n",
       "BN-Cliente         82.0  1617.0     0.0    0.0     0.0\n",
       "POS-Cliente      1617.0    82.0     0.0    0.0     0.0\n",
       "Region              0.0     0.0  1444.0  234.0    21.0"
      ]
     },
     "execution_count": 16,
     "metadata": {},
     "output_type": "execute_result"
    }
   ],
   "source": [
    "df_clientes['Teléfono'] = df_clientes['Teléfono'].fillna('<NULL>')\n",
    "def valid_phone(phone):\n",
    "    count = {}\n",
    "    previous_c = \"\"\n",
    "    for c in phone:\n",
    "        if c == previous_c:\n",
    "            if c in count:\n",
    "                count[c] += 1\n",
    "            else:\n",
    "                count[c] = 1\n",
    "        previous_c = c\n",
    "            \n",
    "    for key in count:\n",
    "        if count[key] >= 5:\n",
    "            return \"<NULL>\"\n",
    "    \n",
    "    if len(phone) == 10: \n",
    "        return phone\n",
    "    else:\n",
    "        return \"<NULL>\"\n",
    "    \n",
    "    \n",
    "df_clientes['Teléfono'] = df_clientes['Teléfono'].map(lambda x: valid_phone(x))\n",
    "df_clientes_not_phone = df_clientes[df_clientes['Teléfono'] == \"<NULL>\"]\n",
    "df_clientes_not_phone = df_clientes_not_phone[['BN-Cliente', 'POS-Cliente', 'F/h registro', 'Nombre Completo', 'Correo', \n",
    "                                               'Teléfono', 'Region', 'Sucursal']]\n",
    "\n",
    "# Archivo de clientes sin numero o numero invalido\n",
    "with pd.ExcelWriter('utils/telefonos_invalidos.xlsx') as writer:\n",
    "    df_clientes_not_phone.to_excel(writer, index=False)\n",
    "\n",
    "df_clientes_not_phone['BN-Cliente'] = np.where(df_clientes_not_phone['POS-Cliente'] == '<NULL>', \"Si\", \"No\")\n",
    "df_clientes_not_phone['POS-Cliente'] = np.where(df_clientes_not_phone['POS-Cliente'] == '<NULL>', \"No\", \"Si\")\n",
    "df_clientes_not_phone['Correo'] = np.where(df_clientes_not_phone['Correo'] == '<NULL>', 'No', 'Si')\n",
    "df_clientes_not_phone['Nombre Completo'] = np.where(df_clientes_not_phone['Nombre Completo'] == '', \"No\", \"Si\")\n",
    "count_correo = df_clientes_not_phone['Correo'].value_counts()\n",
    "count_pos = df_clientes_not_phone['POS-Cliente'].value_counts()\n",
    "count_bn = df_clientes_not_phone['BN-Cliente'].value_counts()\n",
    "count_name = df_clientes_not_phone['Nombre Completo'].value_counts()\n",
    "count_region = df_clientes_not_phone['Region'].value_counts()\n",
    "df_resumen = pd.DataFrame([count_name, count_correo, count_bn, count_pos, count_region]).fillna(0)\n",
    "df_resumen"
   ]
  },
  {
   "cell_type": "markdown",
   "metadata": {},
   "source": [
    "### Reporte clientes prospecto web"
   ]
  },
  {
   "cell_type": "code",
   "execution_count": 17,
   "metadata": {},
   "outputs": [
    {
     "data": {
      "text/html": [
       "<div>\n",
       "<style scoped>\n",
       "    .dataframe tbody tr th:only-of-type {\n",
       "        vertical-align: middle;\n",
       "    }\n",
       "\n",
       "    .dataframe tbody tr th {\n",
       "        vertical-align: top;\n",
       "    }\n",
       "\n",
       "    .dataframe thead th {\n",
       "        text-align: right;\n",
       "    }\n",
       "</style>\n",
       "<table border=\"1\" class=\"dataframe\">\n",
       "  <thead>\n",
       "    <tr style=\"text-align: right;\">\n",
       "      <th></th>\n",
       "      <th>Si</th>\n",
       "      <th>No</th>\n",
       "      <th>&lt;NULL&gt;</th>\n",
       "      <th>CDMX</th>\n",
       "    </tr>\n",
       "  </thead>\n",
       "  <tbody>\n",
       "    <tr>\n",
       "      <th>Se puede contactar</th>\n",
       "      <td>158.0</td>\n",
       "      <td>5.0</td>\n",
       "      <td>0.0</td>\n",
       "      <td>0.0</td>\n",
       "    </tr>\n",
       "    <tr>\n",
       "      <th>username</th>\n",
       "      <td>161.0</td>\n",
       "      <td>2.0</td>\n",
       "      <td>0.0</td>\n",
       "      <td>0.0</td>\n",
       "    </tr>\n",
       "    <tr>\n",
       "      <th>Teléfono</th>\n",
       "      <td>137.0</td>\n",
       "      <td>26.0</td>\n",
       "      <td>0.0</td>\n",
       "      <td>0.0</td>\n",
       "    </tr>\n",
       "    <tr>\n",
       "      <th>Correo</th>\n",
       "      <td>148.0</td>\n",
       "      <td>15.0</td>\n",
       "      <td>0.0</td>\n",
       "      <td>0.0</td>\n",
       "    </tr>\n",
       "    <tr>\n",
       "      <th>Region</th>\n",
       "      <td>0.0</td>\n",
       "      <td>0.0</td>\n",
       "      <td>146.0</td>\n",
       "      <td>17.0</td>\n",
       "    </tr>\n",
       "  </tbody>\n",
       "</table>\n",
       "</div>"
      ],
      "text/plain": [
       "                       Si    No  <NULL>  CDMX\n",
       "Se puede contactar  158.0   5.0     0.0   0.0\n",
       "username            161.0   2.0     0.0   0.0\n",
       "Teléfono            137.0  26.0     0.0   0.0\n",
       "Correo              148.0  15.0     0.0   0.0\n",
       "Region                0.0   0.0   146.0  17.0"
      ]
     },
     "execution_count": 17,
     "metadata": {},
     "output_type": "execute_result"
    }
   ],
   "source": [
    "df_clientes_web = df_clientes[df_clientes['Nombre Completo'].isnull()]\n",
    "df_clientes_web = df_clientes_web[df_clientes_web['Agregado por'] == \"<NULL>\"]\n",
    "df_clientes_web = df_clientes_web[['BN-Cliente', 'F/h registro', 'Vendedor Asignado', 'username', 'Correo', 'Teléfono', 'Region', 'Sucursal']]\n",
    "\n",
    "df_clientes_web_resumen = df_clientes_web[['BN-Cliente', 'F/h registro', 'username', 'Correo', 'Teléfono', 'Vendedor Asignado', 'Region', 'Sucursal']]\n",
    "df_clientes_web_resumen['username'] = np.where(df_clientes_web_resumen['username'] == '<NULL>', \"No\", \"Si\")\n",
    "df_clientes_web_resumen['Correo'] = np.where(df_clientes_web_resumen['Correo'] == '<NULL>', \"No\", \"Si\")\n",
    "df_clientes_web_resumen['Teléfono'] = np.where(df_clientes_web_resumen['Teléfono'] == '<NULL>', \"No\", \"Si\")\n",
    "df_clientes_web_resumen['Se puede contactar'] = np.where((df_clientes_web_resumen['Teléfono'] == 'No') & (df_clientes_web_resumen['Correo'] == 'No'), \"No\", \"Si\")\n",
    "\n",
    "count_correo = df_clientes_web_resumen['Correo'].value_counts()\n",
    "count_phone = df_clientes_web_resumen['Teléfono'].value_counts()\n",
    "count_username = df_clientes_web_resumen['username'].value_counts()\n",
    "count_region = df_clientes_web_resumen['Region'].value_counts()\n",
    "count_aviable = df_clientes_web_resumen['Se puede contactar'].value_counts()\n",
    "\n",
    "df_clientes_web_resumen = df_clientes_web_resumen[['BN-Cliente', 'Se puede contactar']]\n",
    "df_clientes_web = df_clientes_web.merge(df_clientes_web_resumen, how='left', on='BN-Cliente')\n",
    "df_clientes_web = df_clientes_web.drop(df_clientes_web[df_clientes_web[\"Se puede contactar\"] == \"No\"].index)\n",
    "\n",
    "# Archivo de clientes sin numero o numero invalido\n",
    "with pd.ExcelWriter('new_reports/clientes_prospecto_web.xlsx') as writer:\n",
    "    df_clientes_web[['username', 'Correo', 'Teléfono', 'Region']].to_excel(writer, index=False)\n",
    "\n",
    "df_resumen = pd.DataFrame([count_aviable, count_username, count_phone, count_correo, count_region]).fillna(0)\n",
    "df_resumen\n"
   ]
  },
  {
   "cell_type": "markdown",
   "metadata": {},
   "source": [
    "### Reporte Expedientes"
   ]
  },
  {
   "cell_type": "code",
   "execution_count": 18,
   "metadata": {},
   "outputs": [],
   "source": [
    "df_expedientes = df_clientes[['BN-Cliente', 'POS-Cliente', 'Nombre Completo', 'Correo', 'Teléfono', 'Region', 'Sucursal',\n",
    "                              'Vendedor Asignado', 'Desc Acero', 'Desc Laminado', 'Re-compra', 'Dias de Consigna', 'Consigna Autorizada', 'F/h registro']]\n",
    "\n",
    "# # Archivo de clientes sin numero o numero invalido\n",
    "with pd.ExcelWriter('new_reports/expediente_clientes.xlsx') as writer:\n",
    "    df_expedientes.to_excel(writer, index=False)"
   ]
  },
  {
   "cell_type": "markdown",
   "metadata": {},
   "source": [
    "### Reporte Estadisticas de compra"
   ]
  },
  {
   "cell_type": "code",
   "execution_count": 19,
   "metadata": {},
   "outputs": [
    {
     "data": {
      "text/html": [
       "<div>\n",
       "<style scoped>\n",
       "    .dataframe tbody tr th:only-of-type {\n",
       "        vertical-align: middle;\n",
       "    }\n",
       "\n",
       "    .dataframe tbody tr th {\n",
       "        vertical-align: top;\n",
       "    }\n",
       "\n",
       "    .dataframe thead th {\n",
       "        text-align: right;\n",
       "    }\n",
       "</style>\n",
       "<table border=\"1\" class=\"dataframe\">\n",
       "  <thead>\n",
       "    <tr style=\"text-align: right;\">\n",
       "      <th></th>\n",
       "      <th>BN-Cliente</th>\n",
       "      <th>POS-Cliente</th>\n",
       "      <th>Nombre Completo</th>\n",
       "      <th>Vendedor Asignado</th>\n",
       "      <th>Desc Acero</th>\n",
       "      <th>Desc Laminado</th>\n",
       "      <th>Acumulado 6m</th>\n",
       "    </tr>\n",
       "  </thead>\n",
       "  <tbody>\n",
       "    <tr>\n",
       "      <th>0</th>\n",
       "      <td>1</td>\n",
       "      <td>1</td>\n",
       "      <td>CLIENTE MOSTRADOR</td>\n",
       "      <td>-</td>\n",
       "      <td>0.0</td>\n",
       "      <td>10.0</td>\n",
       "      <td>0.00</td>\n",
       "    </tr>\n",
       "    <tr>\n",
       "      <th>1</th>\n",
       "      <td>2</td>\n",
       "      <td>&lt;NULL&gt;</td>\n",
       "      <td>INVITADO E-STORE</td>\n",
       "      <td>-</td>\n",
       "      <td>10.0</td>\n",
       "      <td>10.0</td>\n",
       "      <td>0.00</td>\n",
       "    </tr>\n",
       "    <tr>\n",
       "      <th>2</th>\n",
       "      <td>3</td>\n",
       "      <td>2297</td>\n",
       "      <td>MARIA DEL ROCIO JUAREZ ARAGON</td>\n",
       "      <td>Ricardo</td>\n",
       "      <td>60.0</td>\n",
       "      <td>60.0</td>\n",
       "      <td>187929.70</td>\n",
       "    </tr>\n",
       "    <tr>\n",
       "      <th>3</th>\n",
       "      <td>4</td>\n",
       "      <td>2624</td>\n",
       "      <td>LAURA FERNANDEZ FLORES</td>\n",
       "      <td>Diana Aidee</td>\n",
       "      <td>57.5</td>\n",
       "      <td>60.0</td>\n",
       "      <td>125577.13</td>\n",
       "    </tr>\n",
       "    <tr>\n",
       "      <th>4</th>\n",
       "      <td>5</td>\n",
       "      <td>567</td>\n",
       "      <td>GEMA / MARIA ISABEL GOMEZ</td>\n",
       "      <td>Patricia</td>\n",
       "      <td>55.0</td>\n",
       "      <td>60.0</td>\n",
       "      <td>65000.69</td>\n",
       "    </tr>\n",
       "  </tbody>\n",
       "</table>\n",
       "</div>"
      ],
      "text/plain": [
       "   BN-Cliente POS-Cliente                Nombre Completo Vendedor Asignado  \\\n",
       "0           1           1              CLIENTE MOSTRADOR                 -   \n",
       "1           2      <NULL>               INVITADO E-STORE                 -   \n",
       "2           3        2297  MARIA DEL ROCIO JUAREZ ARAGON           Ricardo   \n",
       "3           4        2624         LAURA FERNANDEZ FLORES       Diana Aidee   \n",
       "4           5         567      GEMA / MARIA ISABEL GOMEZ          Patricia   \n",
       "\n",
       "   Desc Acero  Desc Laminado  Acumulado 6m  \n",
       "0         0.0           10.0          0.00  \n",
       "1        10.0           10.0          0.00  \n",
       "2        60.0           60.0     187929.70  \n",
       "3        57.5           60.0     125577.13  \n",
       "4        55.0           60.0      65000.69  "
      ]
     },
     "execution_count": 19,
     "metadata": {},
     "output_type": "execute_result"
    }
   ],
   "source": [
    "df_clientes.columns\n",
    "df_estadisticas_compra = df_clientes[['BN-Cliente', 'POS-Cliente', 'Nombre Completo','Vendedor Asignado', 'Desc Acero', \n",
    "                                      'Desc Laminado', 'Acumulado 6m']]\n",
    "df_estadisticas_compra.head()\n",
    "# Archivo de clientes sin numero o numero invalido\n",
    "# with pd.ExcelWriter('new_reports/estadisticas_compra.xlsx') as writer:\n",
    "#     df_estadisticas_compra.to_excel(writer, index=False)"
   ]
  },
  {
   "cell_type": "code",
   "execution_count": null,
   "metadata": {},
   "outputs": [],
   "source": []
  }
 ],
 "metadata": {
  "kernelspec": {
   "display_name": "Python 3.9.12 ('base')",
   "language": "python",
   "name": "python3"
  },
  "language_info": {
   "codemirror_mode": {
    "name": "ipython",
    "version": 3
   },
   "file_extension": ".py",
   "mimetype": "text/x-python",
   "name": "python",
   "nbconvert_exporter": "python",
   "pygments_lexer": "ipython3",
   "version": "3.9.12"
  },
  "orig_nbformat": 4,
  "vscode": {
   "interpreter": {
    "hash": "aef21384f2337ec1b01d61b4671c2049d244c2c58fd7648cd398dbea901744ce"
   }
  }
 },
 "nbformat": 4,
 "nbformat_minor": 2
}
