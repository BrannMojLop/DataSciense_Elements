{
 "cells": [
  {
   "cell_type": "markdown",
   "id": "327d8b86",
   "metadata": {},
   "source": [
    "### Importacion de archivos"
   ]
  },
  {
   "cell_type": "code",
   "execution_count": 1,
   "id": "54707485",
   "metadata": {},
   "outputs": [],
   "source": [
    "import pandas as pd\n",
    "import numpy as np\n",
    "import matplotlib.pyplot as plt"
   ]
  },
  {
   "cell_type": "code",
   "execution_count": 2,
   "id": "11c87d73",
   "metadata": {},
   "outputs": [],
   "source": [
    "ventas_cerradas = pd.read_csv('notas_cerradas.csv')\n",
    "ventas_canceladas = pd.read_csv('notas_canceladas.csv')\n",
    "clientes = pd.read_csv('clientes.csv')\n",
    "df_ventas_cerradas = pd.DataFrame(ventas_cerradas)\n",
    "df_ventas_canceladas = pd.DataFrame(ventas_canceladas)\n",
    "df_clientes = pd.DataFrame(clientes)"
   ]
  },
  {
   "cell_type": "markdown",
   "id": "617700cd",
   "metadata": {},
   "source": [
    "### Manipulacion reporte de clientes"
   ]
  },
  {
   "cell_type": "code",
   "execution_count": 3,
   "id": "18d80886",
   "metadata": {},
   "outputs": [],
   "source": [
    "df_clientes.rename(columns={'index': 'Client'}, inplace=True)\n",
    "df_clientes = df_clientes[[\"Client\",\"seller\"]]\n",
    "df_clientes.set_index('Client', inplace=True)\n",
    "df_clientes['seller'] = df_clientes['seller'].map(lambda x: False if (x == \"-\") else x) "
   ]
  },
  {
   "cell_type": "markdown",
   "id": "12e981dd",
   "metadata": {},
   "source": [
    "### Manipulacion de reporte de notas canceladas"
   ]
  },
  {
   "cell_type": "code",
   "execution_count": 4,
   "id": "3b1c7293",
   "metadata": {},
   "outputs": [],
   "source": [
    "df_ventas_canceladas = df_ventas_canceladas[[\"Código\", \"canceled_by\"]]\n",
    "df_ventas_canceladas['Código'] = df_ventas_canceladas['Código'].astype('string')\n",
    "df_ventas_canceladas.set_index('Código', inplace=True)"
   ]
  },
  {
   "cell_type": "markdown",
   "id": "4c34c37e",
   "metadata": {},
   "source": [
    "### Manipulación de reporte notas cerradas"
   ]
  },
  {
   "cell_type": "code",
   "execution_count": 5,
   "id": "8518feee",
   "metadata": {},
   "outputs": [],
   "source": [
    "df_ventas_cerradas.rename(columns={'index': 'Client'}, inplace=True)\n",
    "df_ventas_cerradas = df_ventas_cerradas[[\"Código\", \"Client\", \"pos_client\", \"Sucursal\", \"F/h Cierre\", \"Cobrada por\", \"piezas\",\n",
    "                                        \"Tipo de venta\", \"Descuento\", \"Efectivo\", \"tr0v1\", \"Tarjetas\", \"transferencias\", \"depósitos\"]]\n",
    "df_ventas_cerradas['Código'] = df_ventas_cerradas['Código'].astype('string')\n",
    "df_ventas_cerradas['Client'] = df_ventas_cerradas['Client'].astype('int64')\n",
    "df_ventas_cerradas['pos_client'] = df_ventas_cerradas['pos_client'].astype('string')\n",
    "df_ventas_cerradas['Sucursal'] = df_ventas_cerradas['Sucursal'].astype('string')\n",
    "df_ventas_cerradas['Cobrada por'] = df_ventas_cerradas['Cobrada por'].astype('string')\n",
    "df_ventas_cerradas['Tipo de venta'] = df_ventas_cerradas['Tipo de venta'].astype('string')\n",
    "df_ventas_cerradas['Descuento'] = df_ventas_cerradas['Descuento'].map(lambda x: \"Sin Descuento\" if ( x == \"<NULL>\" ) else x).astype('string')\n",
    "df_ventas_cerradas['Efectivo'] = df_ventas_cerradas['Efectivo'].map(lambda x: 0 if ( x == \"<NULL>\" ) else x).astype('float64')\n",
    "df_ventas_cerradas['tr0v1'] = df_ventas_cerradas['tr0v1'].map(lambda x: 0 if ( x == \"<NULL>\" ) else x).astype('float64')\n",
    "df_ventas_cerradas['Tarjetas'] = df_ventas_cerradas['Tarjetas'].map(lambda x: 0 if ( x == \"<NULL>\" ) else x).astype('float64')\n",
    "df_ventas_cerradas['transferencias'] = df_ventas_cerradas['transferencias'].map(lambda x: 0 if ( x == \"<NULL>\" ) else x).astype('float64')\n",
    "df_ventas_cerradas['depósitos'] = df_ventas_cerradas['depósitos'].map(lambda x: 0 if ( x == \"<NULL>\" ) else x).astype('float64')\n",
    "df_ventas_cerradas['Total Venta'] = df_ventas_cerradas['Efectivo'] + df_ventas_cerradas['tr0v1'] + df_ventas_cerradas['Tarjetas'] + df_ventas_cerradas['transferencias'] + df_ventas_cerradas['depósitos']\n",
    "df_ventas_cerradas.set_index('Código', inplace=True)\n",
    "\n",
    "# Union tabla clientes y notas canceladas\n",
    "df_ventas_cerradas = df_ventas_cerradas.merge(df_ventas_canceladas, how='left', on='Código' )\n",
    "df_ventas_cerradas = df_ventas_cerradas.merge(df_clientes, how='left', on='Client' )\n",
    "\n",
    "# Asiganando notas para comision segun reglas de negocio\n",
    "df_ventas_cerradas['Comisionado por'] = np.where(df_ventas_cerradas['seller'] == False, df_ventas_cerradas['Cobrada por'], df_ventas_cerradas['seller'])\n",
    "\n",
    "# Obetiendo setData ventas cobradas y notas canceladas\n",
    "df_notas_canceladas = df_ventas_cerradas[df_ventas_cerradas[\"canceled_by\"].notnull()]\n",
    "df_notas_cobradas = df_ventas_cerradas[df_ventas_cerradas[\"canceled_by\"].isnull()]"
   ]
  },
  {
   "cell_type": "markdown",
   "id": "f8ca4d22",
   "metadata": {},
   "source": [
    "## Total de venta por vendedor"
   ]
  },
  {
   "cell_type": "code",
   "execution_count": 6,
   "id": "6aa35250",
   "metadata": {},
   "outputs": [
    {
     "data": {
      "text/html": [
       "<div>\n",
       "<style scoped>\n",
       "    .dataframe tbody tr th:only-of-type {\n",
       "        vertical-align: middle;\n",
       "    }\n",
       "\n",
       "    .dataframe tbody tr th {\n",
       "        vertical-align: top;\n",
       "    }\n",
       "\n",
       "    .dataframe thead tr th {\n",
       "        text-align: left;\n",
       "    }\n",
       "\n",
       "    .dataframe thead tr:last-of-type th {\n",
       "        text-align: right;\n",
       "    }\n",
       "</style>\n",
       "<table border=\"1\" class=\"dataframe\">\n",
       "  <thead>\n",
       "    <tr>\n",
       "      <th></th>\n",
       "      <th>Nota Promedio</th>\n",
       "      <th>Total Venta</th>\n",
       "    </tr>\n",
       "    <tr>\n",
       "      <th></th>\n",
       "      <th></th>\n",
       "      <th></th>\n",
       "    </tr>\n",
       "    <tr>\n",
       "      <th>Comisionado por</th>\n",
       "      <th></th>\n",
       "      <th></th>\n",
       "    </tr>\n",
       "  </thead>\n",
       "  <tbody>\n",
       "    <tr>\n",
       "      <th>Alejandra</th>\n",
       "      <td>731.6</td>\n",
       "      <td>$ 29994.9</td>\n",
       "    </tr>\n",
       "    <tr>\n",
       "      <th>Brian Ulises</th>\n",
       "      <td>1520.1</td>\n",
       "      <td>$ 77524.4</td>\n",
       "    </tr>\n",
       "    <tr>\n",
       "      <th>Bryan</th>\n",
       "      <td>634.4</td>\n",
       "      <td>$ 21569.2</td>\n",
       "    </tr>\n",
       "    <tr>\n",
       "      <th>Diana Aidee</th>\n",
       "      <td>847.5</td>\n",
       "      <td>$ 16102.2</td>\n",
       "    </tr>\n",
       "    <tr>\n",
       "      <th>Gerardo</th>\n",
       "      <td>330.7</td>\n",
       "      <td>$ 6945.7</td>\n",
       "    </tr>\n",
       "    <tr>\n",
       "      <th>Iván</th>\n",
       "      <td>169.7</td>\n",
       "      <td>$ 678.7</td>\n",
       "    </tr>\n",
       "    <tr>\n",
       "      <th>Jocelyn</th>\n",
       "      <td>329.4</td>\n",
       "      <td>$ 4281.8</td>\n",
       "    </tr>\n",
       "    <tr>\n",
       "      <th>Karol Viridiana</th>\n",
       "      <td>606.9</td>\n",
       "      <td>$ 18812.7</td>\n",
       "    </tr>\n",
       "    <tr>\n",
       "      <th>Laura</th>\n",
       "      <td>293.8</td>\n",
       "      <td>$ 10283.7</td>\n",
       "    </tr>\n",
       "    <tr>\n",
       "      <th>Mariana</th>\n",
       "      <td>373.2</td>\n",
       "      <td>$ 14929.9</td>\n",
       "    </tr>\n",
       "    <tr>\n",
       "      <th>María Guadalupe</th>\n",
       "      <td>325.8</td>\n",
       "      <td>$ 325.8</td>\n",
       "    </tr>\n",
       "    <tr>\n",
       "      <th>Pamela</th>\n",
       "      <td>997.5</td>\n",
       "      <td>$ 20947.8</td>\n",
       "    </tr>\n",
       "    <tr>\n",
       "      <th>Patricia</th>\n",
       "      <td>955.4</td>\n",
       "      <td>$ 17197.6</td>\n",
       "    </tr>\n",
       "    <tr>\n",
       "      <th>Ricardo</th>\n",
       "      <td>475.4</td>\n",
       "      <td>$ 9983.6</td>\n",
       "    </tr>\n",
       "  </tbody>\n",
       "</table>\n",
       "</div>"
      ],
      "text/plain": [
       "                 Nota Promedio Total Venta\n",
       "                                          \n",
       "Comisionado por                           \n",
       "Alejandra                731.6   $ 29994.9\n",
       "Brian Ulises            1520.1   $ 77524.4\n",
       "Bryan                    634.4   $ 21569.2\n",
       "Diana Aidee              847.5   $ 16102.2\n",
       "Gerardo                  330.7    $ 6945.7\n",
       "Iván                     169.7     $ 678.7\n",
       "Jocelyn                  329.4    $ 4281.8\n",
       "Karol Viridiana          606.9   $ 18812.7\n",
       "Laura                    293.8   $ 10283.7\n",
       "Mariana                  373.2   $ 14929.9\n",
       "María Guadalupe          325.8     $ 325.8\n",
       "Pamela                   997.5   $ 20947.8\n",
       "Patricia                 955.4   $ 17197.6\n",
       "Ricardo                  475.4    $ 9983.6"
      ]
     },
     "execution_count": 6,
     "metadata": {},
     "output_type": "execute_result"
    }
   ],
   "source": [
    "venta_x_vendedor = pd.pivot_table(df_notas_cobradas, index='Comisionado por', values='Total Venta', aggfunc=[np.mean, np.sum])\n",
    "def format(x):\n",
    "    return \"$ {:.1f}\".format(x)\n",
    "venta_x_vendedor['Ventas'] = venta_x_vendedor['sum']['Total Venta']\n",
    "venta_x_vendedor = venta_x_vendedor.sort_values('Ventas', ascending=False)\n",
    "venta_x_vendedor['Total Venta'] = venta_x_vendedor['sum']['Total Venta'].apply(format)\n",
    "venta_x_vendedor\n",
    "venta_x_vendedor['Nota Promedio'] = venta_x_vendedor['mean']['Total Venta'].map(lambda x: np.round(x, decimals=1))\n",
    "venta_x_vendedor[['Nota Promedio', 'Total Venta']]"
   ]
  },
  {
   "cell_type": "markdown",
   "id": "a44b6d9b",
   "metadata": {},
   "source": [
    "## TOP 5 - Ventas por vendedor"
   ]
  },
  {
   "cell_type": "code",
   "execution_count": 7,
   "id": "596be83c",
   "metadata": {},
   "outputs": [
    {
     "data": {
      "image/png": "[encoded data removed]",
      "text/plain": [
       "<Figure size 720x432 with 1 Axes>"
      ]
     },
     "metadata": {
      "needs_background": "light"
     },
     "output_type": "display_data"
    }
   ],
   "source": [
    "top5 = venta_x_vendedor.head(5)\n",
    "eje_x = top5.index\n",
    "eje_y = top5['Ventas']\n",
    "plt.rcParams[\"figure.figsize\"] = (10, 6)\n",
    "plt.bar(eje_x, eje_y, color='#ff7433')\n",
    "plt.title(\"TOP 5 - VENTAS\")\n",
    "plt.show()"
   ]
  }
 ],
 "metadata": {
  "interpreter": {
   "hash": "aded09e558314f283b8b86b5203ba19e86f81af5ef76e49880158bc2fedf532b"
  },
  "kernelspec": {
   "display_name": "Python 3 (ipykernel)",
   "language": "python",
   "name": "python3"
  },
  "language_info": {
   "codemirror_mode": {
    "name": "ipython",
    "version": 3
   },
   "file_extension": ".py",
   "mimetype": "text/x-python",
   "name": "python",
   "nbconvert_exporter": "python",
   "pygments_lexer": "ipython3",
   "version": "3.9.7"
  }
 },
 "nbformat": 4,
 "nbformat_minor": 5
}
