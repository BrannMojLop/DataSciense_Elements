{
 "cells": [
  {
   "cell_type": "markdown",
   "metadata": {},
   "source": [
    "### Importacion de librerias"
   ]
  },
  {
   "cell_type": "code",
   "execution_count": 105,
   "metadata": {},
   "outputs": [],
   "source": [
    "import pandas as pd\n",
    "import numpy as np"
   ]
  },
  {
   "cell_type": "markdown",
   "metadata": {},
   "source": [
    "### Generacion de DataFrame"
   ]
  },
  {
   "cell_type": "code",
   "execution_count": 106,
   "metadata": {},
   "outputs": [],
   "source": [
    "file1 = 'current_reports/shipments.csv'\n",
    "file2 = 'current_reports/shipments_1.csv'\n",
    "dhl_express = pd.concat(\n",
    "   map(pd.read_csv, [file1, file2]), ignore_index=True)"
   ]
  },
  {
   "cell_type": "markdown",
   "metadata": {},
   "source": [
    "### Limpieza y organizacion de data"
   ]
  },
  {
   "cell_type": "code",
   "execution_count": 107,
   "metadata": {},
   "outputs": [],
   "source": [
    "# Asignando tipos de datos\n",
    "dhl_express['﻿Número de guía aérea'] = dhl_express['﻿Número de guía aérea'].astype('string')\n",
    "dhl_express['Fecha de envío'] = pd.to_datetime(dhl_express['Fecha de envío'], format=\"%d.%m.%Y\")\n",
    "dhl_express['Nombre del remitente﻿'] = dhl_express['Nombre del remitente﻿'].astype('string')\n",
    "dhl_express['Tipo'] = dhl_express['Tipo'].astype('string')\n",
    "dhl_express['Compañía receptora'] = dhl_express['Compañía receptora'].astype('string')\n",
    "dhl_express['Dirección de recibidor 1'] = dhl_express['Dirección de recibidor 1'].astype('string')\n",
    "dhl_express['Dirección de recibidor 2'] = dhl_express['Dirección de recibidor 2'].astype('string')\n",
    "dhl_express['Ciudad receptora'] = dhl_express['Ciudad receptora'].astype('string')\n",
    "dhl_express['Código ZIP/Postal del Receptor'] = dhl_express['Código ZIP/Postal del Receptor'].astype('string')\n",
    "dhl_express['País receptor'] = dhl_express['País receptor'].astype('string')\n",
    "dhl_express['Teléfono de receptor'] = dhl_express['Teléfono de receptor'].astype('string')\n",
    "dhl_express['Piezas Peso'] = dhl_express['Piezas Peso'].astype('float64')\n",
    "dhl_express['Peso volumétrico'] = dhl_express['Peso volumétrico'].astype('float64')\n",
    "dhl_express['Cargos estimados'] = dhl_express['Cargos estimados'].astype('float64')\n",
    "dhl_express['Número de cuenta de facturación'] = dhl_express['Número de cuenta de facturación'].astype('string')\n",
    "dhl_express['Opción de entrega'] = dhl_express['Opción de entrega'].astype('string')\n",
    "\n",
    "# Datos de relevancia\n",
    "dhl_express = dhl_express[['﻿Número de guía aérea','Fecha de envío','Tipo','Opción de entrega','Nombre del remitente﻿','Compañía receptora',\n",
    "                           'Dirección de recibidor 1','Dirección de recibidor 2','Ciudad receptora','Código ZIP/Postal del Receptor',\n",
    "                           'País receptor','Teléfono de receptor','Piezas Peso','Peso volumétrico','Cargos estimados','Número de cuenta de facturación']]\n"
   ]
  },
  {
   "cell_type": "markdown",
   "metadata": {},
   "source": [
    "### Obtener reporte estandarizado"
   ]
  },
  {
   "cell_type": "code",
   "execution_count": 108,
   "metadata": {},
   "outputs": [],
   "source": [
    "with pd.ExcelWriter('new_reports/dhl_express.xlsx') as writer:\n",
    "    dhl_express.to_excel(writer, index=False)"
   ]
  }
 ],
 "metadata": {
  "kernelspec": {
   "display_name": "Python 3.9.12 ('base')",
   "language": "python",
   "name": "python3"
  },
  "language_info": {
   "codemirror_mode": {
    "name": "ipython",
    "version": 3
   },
   "file_extension": ".py",
   "mimetype": "text/x-python",
   "name": "python",
   "nbconvert_exporter": "python",
   "pygments_lexer": "ipython3",
   "version": "3.9.12"
  },
  "orig_nbformat": 4,
  "vscode": {
   "interpreter": {
    "hash": "aef21384f2337ec1b01d61b4671c2049d244c2c58fd7648cd398dbea901744ce"
   }
  }
 },
 "nbformat": 4,
 "nbformat_minor": 2
}
